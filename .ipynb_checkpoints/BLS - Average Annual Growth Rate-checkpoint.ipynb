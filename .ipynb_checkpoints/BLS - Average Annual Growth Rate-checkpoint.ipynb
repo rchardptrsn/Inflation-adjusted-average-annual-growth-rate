{
 "cells": [
  {
   "cell_type": "markdown",
   "metadata": {},
   "source": [
    "# Calculate Average Annual Growth Rate\n",
    "__Earnings comparison: Finance vs Engineering and Medical Research__\n",
    "\n",
    "[US Census Bureau - how to adjust for inflation](https://www.census.gov/topics/income-poverty/income/guidance/current-vs-constant-dollars.html#:~:text=Example%3A%20To%20use%20the%20CPI,RS%20from%201995%20(225.3).&text=Current%20dollars%20is%20a%20term,household%2C%20or%20family%20receives%20it.)\n",
    "\n",
    "[CPI python package](https://github.com/datadesk/cpi#:~:text=Adjusting%20for%20inflation%20is%20as,the%20Bureau%20of%20Labor%20Statistics.)\n",
    "\n",
    "[Average Annual Growth Rates](https://www.investopedia.com/terms/a/aagr.asp#:~:text=The%20average%20annual%20growth%20rate,a%20series%20of%20growth%20rates.)"
   ]
  },
  {
   "cell_type": "code",
   "execution_count": 47,
   "metadata": {},
   "outputs": [],
   "source": [
    "import pandas as pd\n",
    "import blspandas\n",
    "import api_key\n",
    "import requests\n",
    "import json\n",
    "from datetime import datetime"
   ]
  },
  {
   "cell_type": "markdown",
   "metadata": {},
   "source": [
    "### Query the data from the bureau of labor statistics"
   ]
  },
  {
   "cell_type": "code",
   "execution_count": 5,
   "metadata": {},
   "outputs": [
    {
     "data": {
      "text/html": [
       "<div>\n",
       "<style scoped>\n",
       "    .dataframe tbody tr th:only-of-type {\n",
       "        vertical-align: middle;\n",
       "    }\n",
       "\n",
       "    .dataframe tbody tr th {\n",
       "        vertical-align: top;\n",
       "    }\n",
       "\n",
       "    .dataframe thead th {\n",
       "        text-align: right;\n",
       "    }\n",
       "</style>\n",
       "<table border=\"1\" class=\"dataframe\">\n",
       "  <thead>\n",
       "    <tr style=\"text-align: right;\">\n",
       "      <th></th>\n",
       "      <th>Engineering and Medical Research</th>\n",
       "      <th>Financial Services</th>\n",
       "    </tr>\n",
       "  </thead>\n",
       "  <tbody>\n",
       "    <tr>\n",
       "      <th>2010-01-01</th>\n",
       "      <td>41.96</td>\n",
       "      <td>41.98</td>\n",
       "    </tr>\n",
       "    <tr>\n",
       "      <th>2010-02-01</th>\n",
       "      <td>42.19</td>\n",
       "      <td>42.00</td>\n",
       "    </tr>\n",
       "    <tr>\n",
       "      <th>2010-03-01</th>\n",
       "      <td>41.97</td>\n",
       "      <td>42.16</td>\n",
       "    </tr>\n",
       "    <tr>\n",
       "      <th>2010-04-01</th>\n",
       "      <td>41.95</td>\n",
       "      <td>41.71</td>\n",
       "    </tr>\n",
       "    <tr>\n",
       "      <th>2010-05-01</th>\n",
       "      <td>41.99</td>\n",
       "      <td>41.69</td>\n",
       "    </tr>\n",
       "  </tbody>\n",
       "</table>\n",
       "</div>"
      ],
      "text/plain": [
       "            Engineering and Medical Research  Financial Services\n",
       "2010-01-01                             41.96               41.98\n",
       "2010-02-01                             42.19               42.00\n",
       "2010-03-01                             41.97               42.16\n",
       "2010-04-01                             41.95               41.71\n",
       "2010-05-01                             41.99               41.69"
      ]
     },
     "execution_count": 5,
     "metadata": {},
     "output_type": "execute_result"
    }
   ],
   "source": [
    "bls_dict = {\n",
    "    'CES6054171003': 'Engineering and Medical Research',\n",
    "    'CES5552300003': 'Financial Services'\n",
    "}\n",
    "\n",
    "# API key in config.py which contains: bls_key = 'key'.\n",
    "key = '?registrationkey={}'.format(api_key.bls_key)\n",
    "\n",
    "# Date Range\n",
    "dates = ('2010', '2020')\n",
    "\n",
    "# Query the BLS API.\n",
    "query = blspandas.query_bls(bls_dict,key,dates)\n",
    "query.head()"
   ]
  },
  {
   "cell_type": "code",
   "execution_count": 16,
   "metadata": {},
   "outputs": [
    {
     "data": {
      "text/html": [
       "<div>\n",
       "<style scoped>\n",
       "    .dataframe tbody tr th:only-of-type {\n",
       "        vertical-align: middle;\n",
       "    }\n",
       "\n",
       "    .dataframe tbody tr th {\n",
       "        vertical-align: top;\n",
       "    }\n",
       "\n",
       "    .dataframe thead th {\n",
       "        text-align: right;\n",
       "    }\n",
       "</style>\n",
       "<table border=\"1\" class=\"dataframe\">\n",
       "  <thead>\n",
       "    <tr style=\"text-align: right;\">\n",
       "      <th></th>\n",
       "      <th>Engineering and Medical Research</th>\n",
       "      <th>Financial Services</th>\n",
       "    </tr>\n",
       "  </thead>\n",
       "  <tbody>\n",
       "    <tr>\n",
       "      <th>2019-08-01</th>\n",
       "      <td>52.28</td>\n",
       "      <td>54.44</td>\n",
       "    </tr>\n",
       "    <tr>\n",
       "      <th>2019-09-01</th>\n",
       "      <td>52.12</td>\n",
       "      <td>54.04</td>\n",
       "    </tr>\n",
       "    <tr>\n",
       "      <th>2019-10-01</th>\n",
       "      <td>52.49</td>\n",
       "      <td>54.03</td>\n",
       "    </tr>\n",
       "    <tr>\n",
       "      <th>2019-11-01</th>\n",
       "      <td>52.67</td>\n",
       "      <td>54.18</td>\n",
       "    </tr>\n",
       "    <tr>\n",
       "      <th>2019-12-01</th>\n",
       "      <td>52.92</td>\n",
       "      <td>54.26</td>\n",
       "    </tr>\n",
       "  </tbody>\n",
       "</table>\n",
       "</div>"
      ],
      "text/plain": [
       "            Engineering and Medical Research  Financial Services\n",
       "2019-08-01                             52.28               54.44\n",
       "2019-09-01                             52.12               54.04\n",
       "2019-10-01                             52.49               54.03\n",
       "2019-11-01                             52.67               54.18\n",
       "2019-12-01                             52.92               54.26"
      ]
     },
     "execution_count": 16,
     "metadata": {},
     "output_type": "execute_result"
    }
   ],
   "source": [
    "query.tail()"
   ]
  },
  {
   "cell_type": "markdown",
   "metadata": {},
   "source": [
    "## Average Annual Growth Rate from 2010 to 2019\n",
    "[Investopedia](https://www.investopedia.com/terms/a/aagr.asp#:~:text=The%20average%20annual%20growth%20rate,a%20series%20of%20growth%20rates.)\n",
    "<br>\n",
    "__Calculated by finding the arithmetic mean of the growth rate.__\n",
    "\n",
    "We will calculate the __inflation-adjusted__ average growth rate following [this article's](https://www.census.gov/topics/income-poverty/income/guidance/current-vs-constant-dollars.html#:~:text=Example%3A%20To%20use%20the%20CPI,RS%20from%201995%20(225.3).&text=Current%20dollars%20is%20a%20term,household%2C%20or%20family%20receives%20it.) recommendation.\n",
    "<br>"
   ]
  },
  {
   "cell_type": "markdown",
   "metadata": {},
   "source": [
    "### 1. Adjust for inflation"
   ]
  },
  {
   "cell_type": "code",
   "execution_count": 54,
   "metadata": {},
   "outputs": [],
   "source": [
    "# Make a copy of the dataset and reset the index and rename to Date\n",
    "df = query.copy().reset_index().rename(columns={'index':'Date'})\n",
    "\n",
    "# Change the units to yearly\n",
    "df['Engineering and Medical Research'] = df['Engineering and Medical Research']*2080\n",
    "df['Financial Services'] = df['Financial Services'] *2080\n",
    "\n",
    "# Add a year column\n",
    "df['Year'] = pd.to_datetime(df.Date).dt.year\n",
    "df['Month'] = pd.to_datetime(df.Date).dt.month\n",
    "\n",
    "# Subset only from 2010 to 2018\n",
    "df = df.query('Year <= 2018')\n",
    "\n",
    "# Adjust for inflation\n",
    "\n",
    "def adjust_inflation(year):\n",
    "    \n",
    "    cpi_index = pd.read_csv('cpi_index.csv')\n",
    "    \n",
    "    cpi_2018 = cpi_index[cpi_index.Year == 2018][['CPI-U-RS Index']].values[0][0]\n",
    "    \n",
    "    cpi_year = cpi_index[cpi_index.Year == year][['CPI-U-RS Index']].values[0][0]\n",
    "    \n",
    "    cpi_ratio = cpi_2018 / cpi_year\n",
    "    \n",
    "    return cpi_ratio\n",
    "\n",
    "# Create a column for the inflation adjustment ratio - in 2018 dollars\n",
    "df['Inflation adjustment'] = df['Year'].apply(adjust_inflation)\n",
    "\n",
    "# Create a new column by multiplying the salary by the inflation ratio\n",
    "df['Engineering and Research salary - inflation adjusted'] = df['Engineering and Medical Research'] * df['Inflation adjustment']\n",
    "df['Financial Services salary average - inflation adjusted'] = df['Financial Services'] * df['Inflation adjustment']\n",
    "\n",
    "# Query only December Values\n",
    "df = df.query('Month == 12')\n",
    "\n",
    "df['Engineering_pct_change'] = round(df['Engineering and Research salary - inflation adjusted'].pct_change(),4)\n",
    "df['Finance_pct_change'] = round(df['Financial Services salary average - inflation adjusted'].pct_change(),4)\n",
    "\n",
    "df\n",
    "df.to_csv('Inflation Adjusted Percent Changes.csv')"
   ]
  },
  {
   "cell_type": "markdown",
   "metadata": {},
   "source": [
    "### 2. Calculate Average Annual Growth Rate"
   ]
  },
  {
   "cell_type": "code",
   "execution_count": 53,
   "metadata": {},
   "outputs": [
    {
     "name": "stdout",
     "output_type": "stream",
     "text": [
      "Engineering - AAGR:  0.31\n",
      "Finance - AAGR:  1.72\n"
     ]
    }
   ],
   "source": [
    "print('Engineering - AAGR: ', round(df['Engineering_pct_change'].mean()*100,2))\n",
    "print('Finance - AAGR: ', round(df['Finance_pct_change'].mean()*100,2))"
   ]
  },
  {
   "cell_type": "code",
   "execution_count": null,
   "metadata": {},
   "outputs": [],
   "source": []
  }
 ],
 "metadata": {
  "kernelspec": {
   "display_name": "Python 3",
   "language": "python",
   "name": "python3"
  },
  "language_info": {
   "codemirror_mode": {
    "name": "ipython",
    "version": 3
   },
   "file_extension": ".py",
   "mimetype": "text/x-python",
   "name": "python",
   "nbconvert_exporter": "python",
   "pygments_lexer": "ipython3",
   "version": "3.7.6"
  }
 },
 "nbformat": 4,
 "nbformat_minor": 4
}
